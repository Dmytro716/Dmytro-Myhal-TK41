{
 "cells": [
  {
   "cell_type": "markdown",
   "metadata": {},
   "source": [
    "# Відповіді на запитання\n"
   ]
  },
  {
   "cell_type": "markdown",
   "metadata": {},
   "source": [
    "## Чому коли передаємо значення None створюється обєкт з іменем Anonymous?\n",
    "- None — це спеціальний об'єкт, який може бути відображений як \"Anonymous\" в деяких середовищах, щоб показати, що це невизначене або відсутнє значення."
   ]
  },
  {
   "cell_type": "markdown",
   "metadata": {},
   "source": [
    "## Як змінити текст привітання при виклику методу say_hello()? Допишіть цю частину коду.\n",
    "- Щоб змінити текст привітання при виклику методу say_hello(), можна додати аргумент для передачі нового тексту привітання або оновити метод, щоб він використовував задане значення."
   ]
  },
  {
   "cell_type": "code",
   "execution_count": 10,
   "metadata": {},
   "outputs": [
    {
     "ename": "NameError",
     "evalue": "name 'MyName' is not defined",
     "output_type": "error",
     "traceback": [
      "\u001b[1;31m---------------------------------------------------------------------------\u001b[0m",
      "\u001b[1;31mNameError\u001b[0m                                 Traceback (most recent call last)",
      "Cell \u001b[1;32mIn[10], line 9\u001b[0m\n\u001b[0;32m      6\u001b[0m     \u001b[38;5;28;01mreturn\u001b[39;00m \u001b[38;5;124mf\u001b[39m\u001b[38;5;124m\"\u001b[39m\u001b[38;5;124mYou say: \u001b[39m\u001b[38;5;132;01m{\u001b[39;00mmessage\u001b[38;5;132;01m}\u001b[39;00m\u001b[38;5;124m\"\u001b[39m\n\u001b[0;32m      8\u001b[0m \u001b[38;5;66;03m# Виклик з передачею нового повідомлення\u001b[39;00m\n\u001b[1;32m----> 9\u001b[0m \u001b[38;5;28mprint\u001b[39m(\u001b[43mMyName\u001b[49m\u001b[38;5;241m.\u001b[39msay_hello(\u001b[38;5;124m\"\u001b[39m\u001b[38;5;124mHello from the new user!\u001b[39m\u001b[38;5;124m\"\u001b[39m))\n",
      "\u001b[1;31mNameError\u001b[0m: name 'MyName' is not defined"
     ]
    }
   ],
   "source": [
    "# Оновлений метод say_hello з можливістю передати власне привітання\n",
    "@staticmethod\n",
    "def say_hello(message=\"Hello to everyone!\"):\n",
    "    \"\"\"Static method\n",
    "    \"\"\"\n",
    "    return f\"You say: {message}\"\n",
    "\n",
    "# Виклик з передачею нового повідомлення\n",
    "print(MyName.say_hello(\"Hello from the new user!\"))\n"
   ]
  },
  {
   "cell_type": "markdown",
   "metadata": {},
   "source": [
    "## Допишіть функцію в класі яка порахує кількість букв і імені (підказка: використайте функцію len());\n",
    "\n"
   ]
  },
  {
   "cell_type": "code",
   "execution_count": 12,
   "metadata": {},
   "outputs": [],
   "source": [
    "class MyName:\n",
    "    \"\"\"Опис класу / Документація\n",
    "    \"\"\"\n",
    "    total_names = 0 #Class Variable\n",
    "\n",
    "    def __init__(self, name=None) -> None:\n",
    "        self.name = name if name is not None else self.anonymous_user().name #Class attributes / Instance variables\n",
    "        MyName.total_names += 1 #modify class variable\n",
    "        self.my_id = self.total_names\n",
    "\n",
    "    @property\n",
    "    def whoami(self): \n",
    "        \"\"\"Class property\n",
    "        return: повертаємо імя \n",
    "        \"\"\"\n",
    "        return f\"My name is {self.name}\"\n",
    "    \n",
    "    @property\n",
    "    def my_email(self) -> str:\n",
    "        \"\"\"Class property\n",
    "        return: повертаємо емейл\n",
    "        \"\"\"\n",
    "        return self.create_email()\n",
    "    \n",
    "    def create_email(self) -> str:\n",
    "        \"\"\"Instance method\n",
    "        \"\"\"\n",
    "        return f\"{self.name}@itcollege.lviv.ua\"\n",
    "\n",
    "    @classmethod\n",
    "    def anonymous_user(cls):\n",
    "        \"\"\"Classs method\n",
    "        \"\"\"\n",
    "        return cls(\"Anonymous\")\n",
    "    \n",
    "    @staticmethod\n",
    "    def say_hello(message=\"Hello to everyone!\"):\n",
    "        \"\"\"Static method\n",
    "        \"\"\"\n",
    "        return f\"You say: {message}\"\n",
    "\n",
    "    def count_letters(self) -> int:\n",
    "        \"\"\"Instance method\n",
    "        Повертає кількість букв в імені\n",
    "        \"\"\"\n",
    "        return len(self.name.replace(\" \", \"\"))  # Видаляємо пробіли і рахуємо символи\n"
   ]
  },
  {
   "cell_type": "markdown",
   "metadata": {},
   "source": [
    "## Порахуйте кількість імен у списку names та порівняйте із виведеним результатом. Дайте відповідь чому маємо різну кількість імен?\n",
    "\n",
    "names = (\"Dmytro Myhal\", \"Marta\", None)\n",
    "\n",
    "- Тут є два реальних імені — \"Dmytro Myhal\" і \"Marta\", а також третій елемент — None.\n",
    "\n",
    "- Коли ви створюєте об'єкти класу MyName для кожного елемента зі списку, ось що відбувається:\n",
    "\n",
    "Для \"Dmytro Myhal\" створюється об'єкт з ім'ям \"Dmytro Myhal\".\n",
    "Для \"Marta\" створюється об'єкт з ім'ям \"Marta\".\n",
    "Для None (якщо ім'я не передано) створюється об'єкт з ім'ям \"Anonymous\".\n",
    "Тому, хоча у списку є лише три елементи, фактично створюється три об'єкти. Один з них має ім'я \"Anonymous\", бо для None було автоматично використано значення за замовчуванням.\n",
    "\n",
    "- У списку names три елементи, і кожен елемент приводить до створення об'єкта, навіть якщо це None. Тому кількість об'єктів і кількість елементів у списку співпадає."
   ]
  }
 ],
 "metadata": {
  "kernelspec": {
   "display_name": "Python 3",
   "language": "python",
   "name": "python3"
  },
  "language_info": {
   "codemirror_mode": {
    "name": "ipython",
    "version": 3
   },
   "file_extension": ".py",
   "mimetype": "text/x-python",
   "name": "python",
   "nbconvert_exporter": "python",
   "pygments_lexer": "ipython3",
   "version": "3.10.11"
  }
 },
 "nbformat": 4,
 "nbformat_minor": 2
}
