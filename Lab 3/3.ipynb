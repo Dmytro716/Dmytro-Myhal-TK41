{
 "cells": [
  {
   "cell_type": "code",
   "execution_count": 1,
   "metadata": {},
   "outputs": [
    {
     "data": {
      "text/plain": [
       "<module 'my_class' from 'c:\\\\Users\\\\User\\\\Desktop\\\\ТК-41\\\\Dmytro-Myhal-TK41-2\\\\Lab 3\\\\my_class.py'>"
      ]
     },
     "execution_count": 1,
     "metadata": {},
     "output_type": "execute_result"
    }
   ],
   "source": [
    "import importlib\n",
    "import my_class\n",
    "\n",
    "importlib.reload(my_class)\n"
   ]
  },
  {
   "cell_type": "code",
   "execution_count": 2,
   "metadata": {},
   "outputs": [
    {
     "name": "stdout",
     "output_type": "stream",
     "text": [
      "<class 'my_class.MySuperClass'>\n",
      "Help on class MySuperClass in module my_class:\n",
      "\n",
      "class MySuperClass(builtins.object)\n",
      " |  MySuperClass(surname: str, name: str, mark: int, group: str = None)\n",
      " |\n",
      " |  Тестовий клас, описує студента.\n",
      " |\n",
      " |  Attributes:\n",
      " |      surname (str): Прізвище студента.\n",
      " |      name (str): Ім'я студента.\n",
      " |      mark (int): Оцінка студента.\n",
      " |      group (str, optional): Група студента.\n",
      " |      _age (int, optional): Вік студента (захищений атрибут).\n",
      " |\n",
      " |  Methods defined here:\n",
      " |\n",
      " |  __init__(self, surname: str, name: str, mark: int, group: str = None)\n",
      " |      Ініціалізуємо об'єкт студента.\n",
      " |\n",
      " |      Args:\n",
      " |          surname (str): Прізвище студента.\n",
      " |          name (str): Ім'я студента.\n",
      " |          mark (int): Оцінка студента.\n",
      " |          group (str, optional): Група студента.\n",
      " |\n",
      " |  __len__(self)\n",
      " |      Повертає довжину прізвища студента.\n",
      " |\n",
      " |  __repr__(self)\n",
      " |      Return repr(self).\n",
      " |\n",
      " |  ----------------------------------------------------------------------\n",
      " |  Readonly properties defined here:\n",
      " |\n",
      " |  name\n",
      " |      Властивість для доступу до ім'я студента (тільки для читання).\n",
      " |\n",
      " |  surname\n",
      " |      Властивість для доступу до прізвища студента (тільки для читання).\n",
      " |\n",
      " |  ----------------------------------------------------------------------\n",
      " |  Data descriptors defined here:\n",
      " |\n",
      " |  __dict__\n",
      " |      dictionary for instance variables\n",
      " |\n",
      " |  __weakref__\n",
      " |      list of weak references to the object\n",
      "\n"
     ]
    }
   ],
   "source": [
    "from my_class import MySuperClass, function_in_module\n",
    "\n",
    "print(MySuperClass)\n",
    "help(MySuperClass)"
   ]
  },
  {
   "cell_type": "code",
   "execution_count": 3,
   "metadata": {},
   "outputs": [
    {
     "name": "stdout",
     "output_type": "stream",
     "text": [
      "['Студент VB B отримав оцінку 4', 'Студент FB B отримав оцінку 5', 'Студент DS S отримав оцінку 3', 'Студент TY D отримав оцінку 4']\n",
      "Студент VB B отримав оцінку 4\n",
      "Студент FB B отримав оцінку 5\n",
      "Студент DS S отримав оцінку 3\n",
      "Студент TY D отримав оцінку 4\n"
     ]
    }
   ],
   "source": [
    "name = [\"B\", \"B\", \"S\", \"D\"]\n",
    "surname = [\"VB\", \"FB\", \"DS\", \"TY\"]\n",
    "marks = [4, 5, 3, 4]\n",
    "\n",
    "# Вивід інформації про студентів за допомогою спискового включення\n",
    "print([f\"Студент {surname[i]} {name[i]} отримав оцінку {marks[i]}\" for i in range(len(name))])\n"
   ]
  },
  {
   "cell_type": "code",
   "execution_count": 4,
   "metadata": {},
   "outputs": [
    {
     "name": "stdout",
     "output_type": "stream",
     "text": [
      "Студент B VB отримав оцінку 4\n",
      "Студент B FB отримав оцінку 5\n",
      "Студент S DS отримав оцінку 3\n",
      "Студент D TY отримав оцінку 4\n"
     ]
    }
   ],
   "source": [
    "students = {\n",
    "    \"Прізвище\": [\"B\", \"B\", \"S\", \"D\"],\n",
    "    \"Ім'я\": [\"VB\", \"FB\", \"DS\", \"TY\"],\n",
    "    \"Оцінка\": [4, 5, 3, 4]\n",
    "}\n",
    "\n",
    "# Вивід інформації про студентів\n",
    "for i in range(len(students[\"Прізвище\"])):\n",
    "    print(f\"Студент {students['Прізвище'][i]} {students['Ім\\'я'][i]} отримав оцінку {students['Оцінка'][i]}\")\n"
   ]
  },
  {
   "cell_type": "code",
   "execution_count": 8,
   "metadata": {},
   "outputs": [
    {
     "name": "stdout",
     "output_type": "stream",
     "text": [
      "Викликаємо __init__\n",
      "Викликаємо __init__\n",
      "Викликаємо __init__\n",
      "Викликаємо __init__\n",
      "Студент B VB отримав оцінку 4\n",
      "Студент B FB отримав оцінку 5\n",
      "Студент S DS отримав оцінку 3\n",
      "Студент D TY отримав оцінку 4\n"
     ]
    }
   ],
   "source": [
    "from my_class import MySuperClass\n",
    "\n",
    "def display_student_info(students):\n",
    "    \"\"\"Виводить інформацію про студентів.\"\"\"\n",
    "    for student in students:\n",
    "        print(f\"Студент {student.surname} {student.name} отримав оцінку {student.mark}\")\n",
    "\n",
    "students = [\n",
    "    MySuperClass(\"B\", \"VB\", 4),\n",
    "    MySuperClass(\"B\", \"FB\", 5),\n",
    "    MySuperClass(\"S\", \"DS\", 3),\n",
    "    MySuperClass(\"D\", \"TY\", 4)\n",
    "]\n",
    "\n",
    "display_student_info(students)\n"
   ]
  },
  {
   "cell_type": "code",
   "execution_count": null,
   "metadata": {},
   "outputs": [],
   "source": [
    "from my_class import MySuperClass\n",
    "\n",
    "obj = MySuperClass(\"ББаа\", \"BB\", None)\n",
    "\n",
    "print(\"Об'єкт класу:\", obj)\n",
    "\n",
    "help(obj)\n",
    "\n",
    "print(\"Документація класу:\", MySuperClass.__doc__)\n",
    "\n",
    "surname_length = len(obj.surname) \n",
    "print(\"Довжина прізвища:\", surname_length)\n",
    "\n",
    "print(\"Беремо атрибут імені:\", obj.name)\n",
    "\n",
    "print(\"Тип об'єкта:\", type(obj))\n"
   ]
  },
  {
   "cell_type": "code",
   "execution_count": null,
   "metadata": {},
   "outputs": [],
   "source": [
    "from my_class import MySuperClass\n",
    "\n",
    "# Створюємо перший об'єкт класу MySuperClass\n",
    "s1 = MySuperClass(1, \"Один\", \"1\")\n",
    "print(f\"В об'єкта s1 будуть наступні атрибути: {s1.__dict__}\")\n",
    "s1.group = \"TK-41\"  # Додаємо новий атрибут\n",
    "\n",
    "# Створюємо другий об'єкт класу MySuperClass\n",
    "s2 = MySuperClass(2, \"Два\", \"2\")\n",
    "s2.s = \"Додатковий атрибут\"  # Додаємо атрибут s\n",
    "print(f\"{s1.__dict__} але базові атрибути будуть доступними для s2: {s2.__dict__}\")\n",
    "\n",
    "# Створюємо третій об'єкт з усіма атрибутами\n",
    "s3 = MySuperClass(3, \"Три\", \"3\", \"TK-42\")\n",
    "print(f\"В цьому об'єкті s3 ми явно задали всі атрибути: {s3.__dict__}\")\n",
    "\n",
    "# Створюємо четвертий об'єкт\n",
    "s4 = MySuperClass(4, \"Чотири\", \"4\")\n",
    "s4.extra_info = \"Додаткова інформація для s4\"\n",
    "print(f\"Об'єкт s4: {s4.__dict__}\")\n",
    "\n",
    "# Створюємо п'ятий об'єкт\n",
    "s5 = MySuperClass(5, \"П'ять\", \"5\", \"TK-43\")\n",
    "s5.comment = \"Цей об'єкт має коментар\"\n",
    "print(f\"Об'єкт s5: {s5.__dict__}\")\n",
    "\n",
    "# Додаткові відомості про об'єкти\n",
    "print(f\"Тип об'єкта s1: {type(s1)}\")\n",
    "print(f\"Число атрибутів в об'єкта s1: {len(s1.__dict__)}\")\n",
    "print(f\"Атрибут s у s2: {s2.s}\")\n"
   ]
  },
  {
   "cell_type": "code",
   "execution_count": null,
   "metadata": {},
   "outputs": [],
   "source": [
    "print(s1.name)  # Виводимо ім'я об'єкта s1\n",
    "\n",
    "# Змінюємо ім'я об'єкта s1 (закоментовано)\n",
    "# s1.name = \"Три\"\n",
    "\n",
    "print(\"Прізвище:\", s1.surname)  \n",
    "\n",
    "print(\"Вік до зміни:\", s1._age) \n",
    "s1._age = 10  \n",
    "print(\"Вік після зміни:\", s1._age)  \n",
    "\n",
    "s1.extra_attr = \"Додатковий атрибут s1\"  \n",
    "print(\"Додатковий атрибут:\", s1.extra_attr)  \n",
    "\n",
    "print(\"Атрибут s у s2:\", s2.s)\n",
    "\n",
    "print(\"Група s1:\", s1.group)\n"
   ]
  }
 ],
 "metadata": {
  "kernelspec": {
   "display_name": "Python 3",
   "language": "python",
   "name": "python3"
  },
  "language_info": {
   "codemirror_mode": {
    "name": "ipython",
    "version": 3
   },
   "file_extension": ".py",
   "mimetype": "text/x-python",
   "name": "python",
   "nbconvert_exporter": "python",
   "pygments_lexer": "ipython3",
   "version": "3.12.5"
  }
 },
 "nbformat": 4,
 "nbformat_minor": 2
}
