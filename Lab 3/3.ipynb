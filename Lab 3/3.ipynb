{
 "cells": [
  {
   "cell_type": "code",
   "execution_count": 31,
   "metadata": {},
   "outputs": [
    {
     "data": {
      "text/plain": [
       "<module 'my_class' from 'c:\\\\Users\\\\User\\\\Desktop\\\\ТК-41\\\\Dmytro-Myhal-TK41-3\\\\Lab 3\\\\my_class.py'>"
      ]
     },
     "execution_count": 31,
     "metadata": {},
     "output_type": "execute_result"
    }
   ],
   "source": [
    "import importlib\n",
    "import my_class\n",
    "\n",
    "importlib.reload(my_class)\n"
   ]
  },
  {
   "cell_type": "code",
   "execution_count": 7,
   "metadata": {},
   "outputs": [
    {
     "name": "stdout",
     "output_type": "stream",
     "text": [
      "<class 'my_class.MySuperClass'>\n",
      "Help on class MySuperClass in module my_class:\n",
      "\n",
      "class MySuperClass(builtins.object)\n",
      " |  MySuperClass(surname: str, name: str, mark: int = 0, group: str = None)\n",
      " |\n",
      " |  Тестовий клас, описує студента.\n",
      " |\n",
      " |  Methods defined here:\n",
      " |\n",
      " |  __del__(self)\n",
      " |      Викликається при видаленні об'єкта. Зменшує кількість студентів.\n",
      " |\n",
      " |  __init__(self, surname: str, name: str, mark: int = 0, group: str = None)\n",
      " |      Ініціалізуємо об'єкт студента.\n",
      " |\n",
      " |  show_student_info(self)\n",
      " |      Показує інформацію про студента.\n",
      " |\n",
      " |  update_scholarship(self, rating: int, special_case: bool = False)\n",
      " |      Оновлює стипендію студента на основі оцінки та додаткових умов.\n",
      " |\n",
      " |      Параметри:\n",
      " |          rating (int): Рейтинг студента (1-5).\n",
      " |          special_case (bool): Якщо студент має особливий статус (наприклад, сирота, учасник змагань).\n",
      " |\n",
      " |  ----------------------------------------------------------------------\n",
      " |  Readonly properties defined here:\n",
      " |\n",
      " |  name\n",
      " |      Ім'я студента.\n",
      " |\n",
      " |  scholarship\n",
      " |      Властивість для отримання стипендії.\n",
      " |\n",
      " |  surname\n",
      " |      Прізвище студента.\n",
      " |\n",
      " |  ----------------------------------------------------------------------\n",
      " |  Data descriptors defined here:\n",
      " |\n",
      " |  __dict__\n",
      " |      dictionary for instance variables\n",
      " |\n",
      " |  __weakref__\n",
      " |      list of weak references to the object\n",
      " |\n",
      " |  ----------------------------------------------------------------------\n",
      " |  Data and other attributes defined here:\n",
      " |\n",
      " |  COLLEGE_NAME = 'Національний університет'\n",
      " |\n",
      " |  total_marks = 0\n",
      " |\n",
      " |  total_students = 0\n",
      "\n"
     ]
    }
   ],
   "source": [
    "from my_class import MySuperClass, function_in_module\n",
    "\n",
    "print(MySuperClass)\n",
    "help(MySuperClass)"
   ]
  },
  {
   "cell_type": "code",
   "execution_count": 8,
   "metadata": {},
   "outputs": [
    {
     "name": "stdout",
     "output_type": "stream",
     "text": [
      "['Студент VB B отримав оцінку 4', 'Студент FB B отримав оцінку 5', 'Студент DS S отримав оцінку 3', 'Студент TY D отримав оцінку 4']\n"
     ]
    }
   ],
   "source": [
    "name = [\"B\", \"B\", \"S\", \"D\"]\n",
    "surname = [\"VB\", \"FB\", \"DS\", \"TY\"]\n",
    "marks = [4, 5, 3, 4]\n",
    "\n",
    "# Вивід інформації про студентів за допомогою спискового включення\n",
    "print([f\"Студент {surname[i]} {name[i]} отримав оцінку {marks[i]}\" for i in range(len(name))])\n"
   ]
  },
  {
   "cell_type": "code",
   "execution_count": 9,
   "metadata": {},
   "outputs": [
    {
     "name": "stdout",
     "output_type": "stream",
     "text": [
      "Студент B VB отримав оцінку 4\n",
      "Студент B FB отримав оцінку 5\n",
      "Студент S DS отримав оцінку 3\n",
      "Студент D TY отримав оцінку 4\n"
     ]
    }
   ],
   "source": [
    "students = {\n",
    "    \"Прізвище\": [\"B\", \"B\", \"S\", \"D\"],\n",
    "    \"Ім'я\": [\"VB\", \"FB\", \"DS\", \"TY\"],\n",
    "    \"Оцінка\": [4, 5, 3, 4]\n",
    "}\n",
    "\n",
    "# Вивід інформації про студентів\n",
    "for i in range(len(students[\"Прізвище\"])):\n",
    "    print(f\"Студент {students['Прізвище'][i]} {students['Ім\\'я'][i]} отримав оцінку {students['Оцінка'][i]}\")\n"
   ]
  },
  {
   "cell_type": "code",
   "execution_count": 10,
   "metadata": {},
   "outputs": [
    {
     "name": "stdout",
     "output_type": "stream",
     "text": [
      "Студент B VB отримав оцінку 4\n",
      "Студент B FB отримав оцінку 5\n",
      "Студент S DS отримав оцінку 3\n",
      "Студент D TY отримав оцінку 4\n"
     ]
    }
   ],
   "source": [
    "from my_class import MySuperClass\n",
    "\n",
    "def display_student_info(students):\n",
    "    \"\"\"Виводить інформацію про студентів.\"\"\"\n",
    "    for student in students:\n",
    "        print(f\"Студент {student.surname} {student.name} отримав оцінку {student.mark}\")\n",
    "\n",
    "students = [\n",
    "    MySuperClass(\"B\", \"VB\", 4),\n",
    "    MySuperClass(\"B\", \"FB\", 5),\n",
    "    MySuperClass(\"S\", \"DS\", 3),\n",
    "    MySuperClass(\"D\", \"TY\", 4)\n",
    "]\n",
    "\n",
    "display_student_info(students)\n"
   ]
  },
  {
   "cell_type": "code",
   "execution_count": 11,
   "metadata": {},
   "outputs": [
    {
     "name": "stdout",
     "output_type": "stream",
     "text": [
      "Об'єкт класу: <my_class.MySuperClass object at 0x00F72A80>\n",
      "Help on MySuperClass in module my_class object:\n",
      "\n",
      "class MySuperClass(builtins.object)\n",
      " |  MySuperClass(surname: str, name: str, mark: int = 0, group: str = None)\n",
      " |\n",
      " |  Тестовий клас, описує студента.\n",
      " |\n",
      " |  Methods defined here:\n",
      " |\n",
      " |  __del__(self)\n",
      " |      Викликається при видаленні об'єкта. Зменшує кількість студентів.\n",
      " |\n",
      " |  __init__(self, surname: str, name: str, mark: int = 0, group: str = None)\n",
      " |      Ініціалізуємо об'єкт студента.\n",
      " |\n",
      " |  show_student_info(self)\n",
      " |      Показує інформацію про студента.\n",
      " |\n",
      " |  update_scholarship(self, rating: int, special_case: bool = False)\n",
      " |      Оновлює стипендію студента на основі оцінки та додаткових умов.\n",
      " |\n",
      " |      Параметри:\n",
      " |          rating (int): Рейтинг студента (1-5).\n",
      " |          special_case (bool): Якщо студент має особливий статус (наприклад, сирота, учасник змагань).\n",
      " |\n",
      " |  ----------------------------------------------------------------------\n",
      " |  Readonly properties defined here:\n",
      " |\n",
      " |  name\n",
      " |      Ім'я студента.\n",
      " |\n",
      " |  scholarship\n",
      " |      Властивість для отримання стипендії.\n",
      " |\n",
      " |  surname\n",
      " |      Прізвище студента.\n",
      " |\n",
      " |  ----------------------------------------------------------------------\n",
      " |  Data descriptors defined here:\n",
      " |\n",
      " |  __dict__\n",
      " |      dictionary for instance variables\n",
      " |\n",
      " |  __weakref__\n",
      " |      list of weak references to the object\n",
      " |\n",
      " |  ----------------------------------------------------------------------\n",
      " |  Data and other attributes defined here:\n",
      " |\n",
      " |  COLLEGE_NAME = 'Національний університет'\n",
      " |\n",
      " |  total_marks = 17\n",
      " |\n",
      " |  total_students = 5\n",
      "\n",
      "Документація класу: Тестовий клас, описує студента.\n",
      "Довжина прізвища: 4\n",
      "Беремо атрибут імені: BB\n",
      "Тип об'єкта: <class 'my_class.MySuperClass'>\n"
     ]
    }
   ],
   "source": [
    "from my_class import MySuperClass\n",
    "\n",
    "# Створюємо об'єкт, де оцінка = None\n",
    "obj = MySuperClass(\"ББаа\", \"BB\", 1)\n",
    "\n",
    "# Виводимо об'єкт\n",
    "print(\"Об'єкт класу:\", obj)\n",
    "\n",
    "# Викликаємо help()\n",
    "help(obj)\n",
    "\n",
    "# Виводимо документацію класу\n",
    "print(\"Документація класу:\", MySuperClass.__doc__)\n",
    "\n",
    "# Перевіряємо довжину прізвища\n",
    "surname_length = len(obj.surname)\n",
    "print(\"Довжина прізвища:\", surname_length)\n",
    "\n",
    "# Отримуємо ім'я\n",
    "print(\"Беремо атрибут імені:\", obj.name)\n",
    "\n",
    "# Виводимо тип об'єкта\n",
    "print(\"Тип об'єкта:\", type(obj))\n",
    "\n"
   ]
  },
  {
   "cell_type": "code",
   "execution_count": 17,
   "metadata": {},
   "outputs": [
    {
     "name": "stdout",
     "output_type": "stream",
     "text": [
      "В об'єкта s1 будуть наступні атрибути: {'_MySuperClass__surname': 1, '_MySuperClass__name': 'Один', 'mark': 1, 'group': None, '_age': None, '_scholarship': None}\n",
      "{'_MySuperClass__surname': 1, '_MySuperClass__name': 'Один', 'mark': 1, 'group': 'TK-41', '_age': None, '_scholarship': None} але базові атрибути будуть доступними для s2: {'_MySuperClass__surname': 2, '_MySuperClass__name': 'Два', 'mark': 2, 'group': None, '_age': None, '_scholarship': None, 's': 'Додатковий атрибут'}\n",
      "В цьому об'єкті s3 ми явно задали всі атрибути: {'_MySuperClass__surname': 3, '_MySuperClass__name': 'Три', 'mark': 3, 'group': 'TK-42', '_age': None, '_scholarship': None}\n",
      "Об'єкт s4: {'_MySuperClass__surname': 4, '_MySuperClass__name': 'Чотири', 'mark': 4, 'group': None, '_age': None, '_scholarship': None, 'extra_info': 'Додаткова інформація для s4'}\n",
      "Об'єкт s5: {'_MySuperClass__surname': 5, '_MySuperClass__name': \"П'ять\", 'mark': 5, 'group': 'TK-43', '_age': None, '_scholarship': None, 'comment': \"Цей об'єкт має коментар\"}\n",
      "Тип об'єкта s1: <class 'my_class.MySuperClass'>\n",
      "Число атрибутів в об'єкта s1: 6\n",
      "Атрибут s у s2: Додатковий атрибут\n"
     ]
    }
   ],
   "source": [
    "from my_class import MySuperClass\n",
    "\n",
    "# Створюємо перший об'єкт класу MySuperClass\n",
    "s1 = MySuperClass(1, \"Один\", 1)  # Тепер замість \"1\" передається ціле число 1\n",
    "print(f\"В об'єкта s1 будуть наступні атрибути: {s1.__dict__}\")\n",
    "s1.group = \"TK-41\"  # Додаємо новий атрибут\n",
    "\n",
    "# Створюємо другий об'єкт класу MySuperClass\n",
    "s2 = MySuperClass(2, \"Два\", 2)  # Так само передаємо правильні типи даних\n",
    "s2.s = \"Додатковий атрибут\"  # Додаємо атрибут s\n",
    "print(f\"{s1.__dict__} але базові атрибути будуть доступними для s2: {s2.__dict__}\")\n",
    "\n",
    "# Створюємо третій об'єкт з усіма атрибутами\n",
    "s3 = MySuperClass(3, \"Три\", 3, \"TK-42\")  # Третій об'єкт з усіма атрибутами\n",
    "print(f\"В цьому об'єкті s3 ми явно задали всі атрибути: {s3.__dict__}\")\n",
    "\n",
    "# Створюємо четвертий об'єкт\n",
    "s4 = MySuperClass(4, \"Чотири\", 4)\n",
    "s4.extra_info = \"Додаткова інформація для s4\"  # Додаємо атрибут для s4\n",
    "print(f\"Об'єкт s4: {s4.__dict__}\")\n",
    "\n",
    "# Створюємо п'ятий об'єкт\n",
    "s5 = MySuperClass(5, \"П'ять\", 5, \"TK-43\")\n",
    "s5.comment = \"Цей об'єкт має коментар\"  # Додаємо коментар для s5\n",
    "print(f\"Об'єкт s5: {s5.__dict__}\")\n",
    "\n",
    "# Додаткові відомості про об'єкти\n",
    "print(f\"Тип об'єкта s1: {type(s1)}\")\n",
    "print(f\"Число атрибутів в об'єкта s1: {len(s1.__dict__)}\")\n",
    "print(f\"Атрибут s у s2: {s2.s}\")  # Виводимо атрибут s у s2\n",
    "\n"
   ]
  },
  {
   "cell_type": "code",
   "execution_count": 18,
   "metadata": {},
   "outputs": [
    {
     "name": "stdout",
     "output_type": "stream",
     "text": [
      "В об'єкта s1 будуть наступні атрибути: {'_MySuperClass__surname': 1, '_MySuperClass__name': 'Один', 'mark': 1, 'group': None, '_age': None, '_scholarship': None}\n",
      "{'_MySuperClass__surname': 1, '_MySuperClass__name': 'Один', 'mark': 1, 'group': 'TK-41', '_age': None, '_scholarship': None} але базові атрибути будуть доступними для s2: {'_MySuperClass__surname': 2, '_MySuperClass__name': 'Два', 'mark': 2, 'group': None, '_age': None, '_scholarship': None, 's': 'Додатковий атрибут'}\n",
      "В цьому об'єкті s3 ми явно задали всі атрибути: {'_MySuperClass__surname': 3, '_MySuperClass__name': 'Три', 'mark': 3, 'group': 'TK-42', '_age': None, '_scholarship': None}\n",
      "Об'єкт s4: {'_MySuperClass__surname': 4, '_MySuperClass__name': 'Чотири', 'mark': 4, 'group': None, '_age': None, '_scholarship': None, 'extra_info': 'Додаткова інформація для s4'}\n",
      "Об'єкт s5: {'_MySuperClass__surname': 5, '_MySuperClass__name': \"П'ять\", 'mark': 5, 'group': 'TK-43', '_age': None, '_scholarship': None, 'comment': \"Цей об'єкт має коментар\"}\n",
      "Тип об'єкта s1: <class 'my_class.MySuperClass'>\n",
      "Число атрибутів в об'єкта s1: 6\n",
      "Атрибут s у s2: Додатковий атрибут\n",
      "Ім'я s1: Один\n",
      "Прізвище s1: 1\n",
      "Вік до зміни: None\n",
      "Вік після зміни: 10\n",
      "Додатковий атрибут для s1: Додатковий атрибут s1\n",
      "Група s1: TK-41\n"
     ]
    }
   ],
   "source": [
    "from my_class import MySuperClass\n",
    "\n",
    "# Створюємо перший об'єкт класу MySuperClass\n",
    "s1 = MySuperClass(1, \"Один\", 1)\n",
    "print(f\"В об'єкта s1 будуть наступні атрибути: {s1.__dict__}\")\n",
    "s1.group = \"TK-41\"  # Додаємо новий атрибут\n",
    "\n",
    "# Створюємо другий об'єкт класу MySuperClass\n",
    "s2 = MySuperClass(2, \"Два\", 2)  # Створюємо другий об'єкт\n",
    "s2.s = \"Додатковий атрибут\"  # Додаємо атрибут s для s2\n",
    "print(f\"{s1.__dict__} але базові атрибути будуть доступними для s2: {s2.__dict__}\")\n",
    "\n",
    "# Створюємо третій об'єкт з усіма атрибутами\n",
    "s3 = MySuperClass(3, \"Три\", 3, \"TK-42\")\n",
    "print(f\"В цьому об'єкті s3 ми явно задали всі атрибути: {s3.__dict__}\")\n",
    "\n",
    "# Створюємо четвертий об'єкт\n",
    "s4 = MySuperClass(4, \"Чотири\", 4)\n",
    "s4.extra_info = \"Додаткова інформація для s4\"\n",
    "print(f\"Об'єкт s4: {s4.__dict__}\")\n",
    "\n",
    "# Створюємо п'ятий об'єкт\n",
    "s5 = MySuperClass(5, \"П'ять\", 5, \"TK-43\")\n",
    "s5.comment = \"Цей об'єкт має коментар\"\n",
    "print(f\"Об'єкт s5: {s5.__dict__}\")\n",
    "\n",
    "# Додаткові відомості про об'єкти\n",
    "print(f\"Тип об'єкта s1: {type(s1)}\")\n",
    "print(f\"Число атрибутів в об'єкта s1: {len(s1.__dict__)}\")\n",
    "\n",
    "# Оскільки атрибут s існує тільки в s2, виведемо його для s2\n",
    "print(f\"Атрибут s у s2: {s2.s}\")  # Тепер атрибут s існує тільки у s2\n",
    "\n",
    "# Виводимо ім'я та прізвище\n",
    "print(\"Ім'я s1:\", s1.name)\n",
    "print(\"Прізвище s1:\", s1.surname)\n",
    "\n",
    "# Вік до зміни та після зміни\n",
    "print(\"Вік до зміни:\", s1._age)\n",
    "s1._age = 10  # Зміна віку\n",
    "print(\"Вік після зміни:\", s1._age)\n",
    "\n",
    "# Додаємо додатковий атрибут до s1\n",
    "s1.extra_attr = \"Додатковий атрибут s1\"\n",
    "print(\"Додатковий атрибут для s1:\", s1.extra_attr)\n",
    "\n",
    "# Виводимо групу\n",
    "print(\"Група s1:\", s1.group)\n"
   ]
  },
  {
   "cell_type": "code",
   "execution_count": 21,
   "metadata": {},
   "outputs": [
    {
     "ename": "AttributeError",
     "evalue": "'MySuperClass' object has no attribute 'function_in_class'",
     "output_type": "error",
     "traceback": [
      "\u001b[1;31m---------------------------------------------------------------------------\u001b[0m",
      "\u001b[1;31mAttributeError\u001b[0m                            Traceback (most recent call last)",
      "\u001b[1;32mc:\\Users\\User\\Desktop\\ТК-41\\Dmytro-Myhal-TK41-3\\Lab 3\\3.ipynb Cell 9\u001b[0m line \u001b[0;36m7\n\u001b[0;32m      <a href='vscode-notebook-cell:/c%3A/Users/User/Desktop/%D0%A2%D0%9A-41/Dmytro-Myhal-TK41-3/Lab%203/3.ipynb#X11sZmlsZQ%3D%3D?line=3'>4</a>\u001b[0m s1 \u001b[39m=\u001b[39m MySuperClass(\u001b[39m\"\u001b[39m\u001b[39mОдин\u001b[39m\u001b[39m\"\u001b[39m, \u001b[39m\"\u001b[39m\u001b[39mІван\u001b[39m\u001b[39m\"\u001b[39m, \u001b[39m1\u001b[39m)\n\u001b[0;32m      <a href='vscode-notebook-cell:/c%3A/Users/User/Desktop/%D0%A2%D0%9A-41/Dmytro-Myhal-TK41-3/Lab%203/3.ipynb#X11sZmlsZQ%3D%3D?line=5'>6</a>\u001b[0m \u001b[39m# Демонстрація виклику публічних і захищених методів\u001b[39;00m\n\u001b[1;32m----> <a href='vscode-notebook-cell:/c%3A/Users/User/Desktop/%D0%A2%D0%9A-41/Dmytro-Myhal-TK41-3/Lab%203/3.ipynb#X11sZmlsZQ%3D%3D?line=6'>7</a>\u001b[0m \u001b[39mprint\u001b[39m(s1\u001b[39m.\u001b[39;49mfunction_in_class())  \u001b[39m# Викликаємо публічний метод\u001b[39;00m\n\u001b[0;32m      <a href='vscode-notebook-cell:/c%3A/Users/User/Desktop/%D0%A2%D0%9A-41/Dmytro-Myhal-TK41-3/Lab%203/3.ipynb#X11sZmlsZQ%3D%3D?line=7'>8</a>\u001b[0m \u001b[39mprint\u001b[39m(s1\u001b[39m.\u001b[39m_protected_method_in_class())  \u001b[39m# Викликаємо захищений метод\u001b[39;00m\n\u001b[0;32m     <a href='vscode-notebook-cell:/c%3A/Users/User/Desktop/%D0%A2%D0%9A-41/Dmytro-Myhal-TK41-3/Lab%203/3.ipynb#X11sZmlsZQ%3D%3D?line=9'>10</a>\u001b[0m \u001b[39m# Виводимо класові змінні до змін\u001b[39;00m\n",
      "\u001b[1;31mAttributeError\u001b[0m: 'MySuperClass' object has no attribute 'function_in_class'"
     ]
    }
   ],
   "source": [
    "from my_class import MySuperClass\n",
    "\n",
    "# Створюємо об'єкт студента\n",
    "s1 = MySuperClass(\"Один\", \"Іван\", 1)\n",
    "\n",
    "# Демонстрація виклику публічних і захищених методів\n",
    "print(s1.function_in_class())  # Викликаємо публічний метод\n",
    "print(s1._protected_method_in_class())  # Викликаємо захищений метод\n",
    "\n",
    "# Виводимо класові змінні до змін\n",
    "print(f\"Перед початком навчання: {MySuperClass.student_id}\")  # Показуємо класову змінну до зміни\n",
    "MySuperClass.student_id = \"Новий студент ID\"  # Змінили класову змінну\n",
    "print(f\"Після зміни ID: {MySuperClass.student_id}\")  # Показуємо класову змінну після зміни\n",
    "\n",
    "# Демонстрація стипендії на різних етапах навчання\n",
    "print(f\"\"\"\n",
    "Тільки прийшли вчитись в коледж: {s1._scholarship}\n",
    "Провчились семестр і здали все на 5:  {s1.calculate_scholarship_after_session(5)}\n",
    "І наша стипендія тепер: {s1._scholarship}\n",
    "За другий семестр набрали рейтинг 4: {s1.calculate_scholarship_after_session(4)}\n",
    "А тепер вона: {s1._scholarship}\n",
    "Перестали вчитись і рейтинг 3: {s1.calculate_scholarship_after_session(3)}\n",
    "А тепер стипендія: {s1._scholarship}\n",
    "Ще один семестр і отримали рейтинг 5: {s1.calculate_scholarship_after_session(5)}\n",
    "І знову стипендія: {s1._scholarship}\n",
    "\"\"\")\n",
    "\n",
    "# Виведення об'єкта студента\n",
    "print(f\"\\nДеталі студента: {s1.show_student_info()}\")\n"
   ]
  },
  {
   "cell_type": "code",
   "execution_count": 22,
   "metadata": {},
   "outputs": [
    {
     "ename": "AttributeError",
     "evalue": "'MySuperClass' object has no attribute 'function_in_class'",
     "output_type": "error",
     "traceback": [
      "\u001b[1;31m---------------------------------------------------------------------------\u001b[0m",
      "\u001b[1;31mAttributeError\u001b[0m                            Traceback (most recent call last)",
      "\u001b[1;32mc:\\Users\\User\\Desktop\\ТК-41\\Dmytro-Myhal-TK41-3\\Lab 3\\3.ipynb Cell 10\u001b[0m line \u001b[0;36m7\n\u001b[0;32m      <a href='vscode-notebook-cell:/c%3A/Users/User/Desktop/%D0%A2%D0%9A-41/Dmytro-Myhal-TK41-3/Lab%203/3.ipynb#X12sZmlsZQ%3D%3D?line=3'>4</a>\u001b[0m a \u001b[39m=\u001b[39m MySuperClass(\u001b[39m1\u001b[39m, \u001b[39m\"\u001b[39m\u001b[39mОдин\u001b[39m\u001b[39m\"\u001b[39m, \u001b[39m1\u001b[39m)\n\u001b[0;32m      <a href='vscode-notebook-cell:/c%3A/Users/User/Desktop/%D0%A2%D0%9A-41/Dmytro-Myhal-TK41-3/Lab%203/3.ipynb#X12sZmlsZQ%3D%3D?line=5'>6</a>\u001b[0m \u001b[39m# Викликаємо метод через об'єкт (неявно передаємо self)\u001b[39;00m\n\u001b[1;32m----> <a href='vscode-notebook-cell:/c%3A/Users/User/Desktop/%D0%A2%D0%9A-41/Dmytro-Myhal-TK41-3/Lab%203/3.ipynb#X12sZmlsZQ%3D%3D?line=6'>7</a>\u001b[0m a\u001b[39m.\u001b[39;49mfunction_in_class()\n\u001b[0;32m      <a href='vscode-notebook-cell:/c%3A/Users/User/Desktop/%D0%A2%D0%9A-41/Dmytro-Myhal-TK41-3/Lab%203/3.ipynb#X12sZmlsZQ%3D%3D?line=8'>9</a>\u001b[0m \u001b[39m# Викликаємо метод класу явно, передаючи об'єкт як аргумент\u001b[39;00m\n\u001b[0;32m     <a href='vscode-notebook-cell:/c%3A/Users/User/Desktop/%D0%A2%D0%9A-41/Dmytro-Myhal-TK41-3/Lab%203/3.ipynb#X12sZmlsZQ%3D%3D?line=9'>10</a>\u001b[0m b \u001b[39m=\u001b[39m MySuperClass\u001b[39m.\u001b[39mfunction_in_class(a)\n",
      "\u001b[1;31mAttributeError\u001b[0m: 'MySuperClass' object has no attribute 'function_in_class'"
     ]
    }
   ],
   "source": [
    "from my_class import MySuperClass\n",
    "\n",
    "# Створюємо об'єкт класу\n",
    "a = MySuperClass(1, \"Один\", 1)\n",
    "\n",
    "# Викликаємо метод через об'єкт (неявно передаємо self)\n",
    "a.function_in_class()\n",
    "\n",
    "# Викликаємо метод класу явно, передаючи об'єкт як аргумент\n",
    "b = MySuperClass.function_in_class(a)\n",
    "\n",
    "# Викликаємо статичний метод через об'єкт\n",
    "a.hobbi(\"Футбол\")\n",
    "a.hobbi(\"Читання\")\n",
    "a.hobbi(\"Малювання\")\n",
    "a.hobbi(\"Подорожі\")\n",
    "\n",
    "# Викликаємо статичний метод без створення об'єкта\n",
    "MySuperClass.hobbi(\"Швидка їзда\")\n",
    "MySuperClass.hobbi(\"Гірські лижі\")\n",
    "MySuperClass.hobbi(\"Фотографія\")\n",
    "MySuperClass.hobbi(\"Танці\")\n"
   ]
  },
  {
   "cell_type": "code",
   "execution_count": 32,
   "metadata": {},
   "outputs": [
    {
     "name": "stdout",
     "output_type": "stream",
     "text": [
      "Інформація про js:\n",
      "Студент: Jhon Smith\n",
      "Оцінка: 0\n",
      "Група: Не вказана\n",
      "Стипендія: Стипендія не призначена\n",
      "Інформація про f_js:\n",
      "Студент: Jhon Smith\n",
      "Оцінка: 0\n",
      "Група: Не вказана\n",
      "Стипендія: Стипендія не призначена\n",
      "Інформація про r_js:\n",
      "Студент: Jhon Smith\n",
      "Оцінка: 0\n",
      "Група: Не вказана\n",
      "Стипендія: Стипендія не призначена\n",
      "\n",
      "Прізвища студентів:\n",
      "Smith Smith Smith\n"
     ]
    }
   ],
   "source": [
    "from my_class import MySuperClass\n",
    "\n",
    "# Створюємо об'єкт студента за допомогою конструктора\n",
    "js = MySuperClass(\"Smith\", \"Jhon\", 0)\n",
    "\n",
    "# Використовуємо альтернативні конструктори для створення об'єктів\n",
    "f_js = MySuperClass.create_from_name_surname(\"Jhon Smith\")\n",
    "r_js = MySuperClass.create_from_surname_name(\"Smith Jhon\")\n",
    "\n",
    "# Виводимо інформацію про студентів\n",
    "print(f\"Інформація про js:\\n{js.show_student_info()}\")\n",
    "print(f\"Інформація про f_js:\\n{f_js.show_student_info()}\")\n",
    "print(f\"Інформація про r_js:\\n{r_js.show_student_info()}\")\n",
    "\n",
    "# Виводимо лише прізвища\n",
    "print(\"\\nПрізвища студентів:\")\n",
    "print(js.surname, f_js.surname, r_js.surname)\n",
    "\n"
   ]
  }
 ],
 "metadata": {
  "kernelspec": {
   "display_name": "Python 3",
   "language": "python",
   "name": "python3"
  },
  "language_info": {
   "codemirror_mode": {
    "name": "ipython",
    "version": 3
   },
   "file_extension": ".py",
   "mimetype": "text/x-python",
   "name": "python",
   "nbconvert_exporter": "python",
   "pygments_lexer": "ipython3",
   "version": "3.12.5"
  }
 },
 "nbformat": 4,
 "nbformat_minor": 2
}
