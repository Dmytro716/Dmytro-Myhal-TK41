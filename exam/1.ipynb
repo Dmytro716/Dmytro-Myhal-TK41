{
 "cells": [
  {
   "cell_type": "markdown",
   "metadata": {},
   "source": [
    "## Завдання на екзамен\n",
    "- Створи клас MyExam з статичним методом"
   ]
  },
  {
   "cell_type": "code",
   "execution_count": null,
   "metadata": {
    "vscode": {
     "languageId": "plaintext"
    }
   },
   "outputs": [],
   "source": [
    "class MyExam:\n",
    "    @staticmethod\n",
    "    def calculate_score(correct_answers, total_questions):\n",
    "        \"\"\"\n",
    "        Обчислює відсоток правильних відповідей на екзамені\n",
    "        \"\"\"\n",
    "        if total_questions <= 0:\n",
    "            return 0\n",
    "        \n",
    "        score = (correct_answers / total_questions) * 100\n",
    "        return round(score, 1)"
   ]
  }
 ],
 "metadata": {
  "language_info": {
   "name": "python"
  }
 },
 "nbformat": 4,
 "nbformat_minor": 2
}
