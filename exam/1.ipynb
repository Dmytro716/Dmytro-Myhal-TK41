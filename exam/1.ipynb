{
 "cells": [
  {
   "cell_type": "markdown",
   "metadata": {},
   "source": [
    "## Завдання на екзамен\n",
    "- Створити клас з статичним методом"
   ]
  },
  {
   "cell_type": "code",
   "execution_count": 7,
   "metadata": {},
   "outputs": [],
   "source": [
    "class MyExam:\n",
    "    @staticmethod\n",
    "    def calculate_score(correct_answers, total_questions):\n",
    "        \"\"\"\n",
    "        Обчислює відсоток правильних відповідей на екзамені\n",
    "        \"\"\"\n",
    "        if total_questions <= 0:\n",
    "            return 0\n",
    "        \n",
    "        score = (correct_answers / total_questions) * 100\n",
    "        return round(score, 1)"
   ]
  },
  {
   "cell_type": "code",
   "execution_count": 9,
   "metadata": {},
   "outputs": [
    {
     "name": "stdout",
     "output_type": "stream",
     "text": [
      "Результат: 50.0%\n"
     ]
    }
   ],
   "source": [
    "exam = MyExam()\n",
    "\n",
    "result = exam.calculate_score(5, 10)  \n",
    "\n",
    "print(f\"Результат: {result}%\")"
   ]
  }
 ],
 "metadata": {
  "kernelspec": {
   "display_name": "Python 3",
   "language": "python",
   "name": "python3"
  },
  "language_info": {
   "codemirror_mode": {
    "name": "ipython",
    "version": 3
   },
   "file_extension": ".py",
   "mimetype": "text/x-python",
   "name": "python",
   "nbconvert_exporter": "python",
   "pygments_lexer": "ipython3",
   "version": "3.12.8"
  }
 },
 "nbformat": 4,
 "nbformat_minor": 2
}
