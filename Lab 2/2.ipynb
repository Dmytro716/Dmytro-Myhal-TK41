{
 "cells": [
  {
   "cell_type": "markdown",
   "metadata": {},
   "source": [
    "### Типи змінних ###\n",
    "\n",
    "#### Стрічкові змінні ####"
   ]
  },
  {
   "cell_type": "code",
   "execution_count": 1,
   "metadata": {},
   "outputs": [
    {
     "name": "stdout",
     "output_type": "stream",
     "text": [
      "Це новий рядок Перевизначено остаточно \n",
      "Це \n",
      "інший багаторядковий текст\n",
      " Додали нову змінну\n"
     ]
    }
   ],
   "source": [
    "a = 'Це новий рядок'  # Змінив текст на \"рядок\"\n",
    "a1 = \"Це\"\n",
    "a_1 = \"рядок\"\n",
    "a_ = '''\n",
    "Це \n",
    "інший багаторядковий текст\n",
    "'''  # Мультистрічка тепер називається \"багаторядковий текст\"\n",
    "\n",
    "# Додаємо нову змінну\n",
    "c = 'Додали нову змінну'  # Новий рядок тексту\n",
    "\n",
    "# Виведемо значення з новою змінною\n",
    "b = 'Перевизначено остаточно'  # Ще раз змінив текст змінної b\n",
    "print(a, b, a_, c)  # Виводимо також нову змінну"
   ]
  },
  {
   "cell_type": "code",
   "execution_count": 3,
   "metadata": {},
   "outputs": [
    {
     "name": "stdout",
     "output_type": "stream",
     "text": [
      "з'їли піцу\n",
      "шоколадний торт\n",
      "Тип змінної 'страва': <class 'str'>\n",
      "Тип змінної 'десерт': <class 'str'>\n",
      "З'їли піцу\n",
      "Шоколадний торт\n",
      "з'їли суші\n",
      "Довжина змінної 'страва': 10\n",
      "Довжина змінної 'десерт': 15\n"
     ]
    }
   ],
   "source": [
    "страва = \"з'їли піцу\"\n",
    "десерт = \"шоколадний торт\"  \n",
    "\n",
    "print(страва)\n",
    "print(десерт)\n",
    "\n",
    "print(f\"Тип змінної 'страва': {type(страва)}\")\n",
    "print(f\"Тип змінної 'десерт': {type(десерт)}\")\n",
    "\n",
    "print(страва.capitalize())  \n",
    "print(десерт.capitalize())  \n",
    "\n",
    "страва_оновлена = страва.replace(\"піцу\", \"суші\")  \n",
    "print(страва_оновлена)  \n",
    "\n",
    "print(f\"Довжина змінної 'страва': {len(страва)}\")\n",
    "print(f\"Довжина змінної 'десерт': {len(десерт)}\")\n"
   ]
  },
  {
   "cell_type": "code",
   "execution_count": 4,
   "metadata": {},
   "outputs": [
    {
     "name": "stdout",
     "output_type": "stream",
     "text": [
      "Це новий рядокПеревизначено остаточноДодали нову змінну Це новий рядокПеревизначено остаточноДодали нову змінну\n"
     ]
    }
   ],
   "source": [
    "print(a + b + c, a.__add__(b).__add__(c))"
   ]
  },
  {
   "cell_type": "code",
   "execution_count": 6,
   "metadata": {},
   "outputs": [
    {
     "name": "stdout",
     "output_type": "stream",
     "text": [
      "Почнемо з великої букви. І продовжимо з новим реченням ось і закінчимо на цьому.\n"
     ]
    }
   ],
   "source": [
    "t = \"почнемо з великої букви. і продовжимо з новим реченням\"\n",
    "t1, t2 = t.split('. ')\n",
    "new_sentence = \"ось і закінчимо на цьому.\"\n",
    "\n",
    "print(t1.capitalize() + \".\", t2.capitalize(), new_sentence)\n"
   ]
  },
  {
   "cell_type": "markdown",
   "metadata": {},
   "source": [
    "### Чисельні типи даних ###"
   ]
  },
  {
   "cell_type": "code",
   "execution_count": 3,
   "metadata": {},
   "outputs": [
    {
     "name": "stdout",
     "output_type": "stream",
     "text": [
      "20\n",
      "<class 'int'>\n",
      "116\n",
      "<class 'str'>\n"
     ]
    }
   ],
   "source": [
    "import sys\n",
    "\n",
    "d = 10000000000\n",
    "size_of_d = sys.getsizeof(d)\n",
    "\n",
    "print(sys.getsizeof(d))\n",
    "print(type(d))\n",
    "\n",
    "text = \"Це велике число, яке перевіряємо на розмір.\"\n",
    "\n",
    "print(sys.getsizeof(text))\n",
    "print(type(text))\n"
   ]
  },
  {
   "cell_type": "code",
   "execution_count": 1,
   "metadata": {},
   "outputs": [
    {
     "name": "stdout",
     "output_type": "stream",
     "text": [
      "<class 'float'>\n"
     ]
    }
   ],
   "source": [
    "dd = 1.1\n",
    "print(type(dd))"
   ]
  },
  {
   "cell_type": "code",
   "execution_count": 4,
   "metadata": {},
   "outputs": [
    {
     "name": "stdout",
     "output_type": "stream",
     "text": [
      "Тип змінної c: <class 'float'>\n",
      "Значення змінної c: 11000000000.0\n",
      "dd піднесена до квадрату: 1.2100000000000002\n",
      "dd піднесена до кубу: 1.3310000000000004\n",
      "Квадратний корінь з dd: 1.0488088481701516\n",
      "Натуральний логарифм від dd: 0.09531017980432493\n"
     ]
    }
   ],
   "source": [
    "\n",
    "c = d * dd\n",
    "print(\"Тип змінної c:\", type(c)) \n",
    "print(f\"Значення змінної c: {c}\") \n",
    "print(\"dd піднесена до квадрату:\", dd ** 2)\n",
    "print(\"dd піднесена до кубу:\", dd ** 3)\n",
    "import math\n",
    "print(\"Квадратний корінь з dd:\", math.sqrt(dd))\n",
    "print(\"Натуральний логарифм від dd:\", math.log(dd))\n"
   ]
  },
  {
   "cell_type": "code",
   "execution_count": 5,
   "metadata": {},
   "outputs": [
    {
     "name": "stdout",
     "output_type": "stream",
     "text": [
      "10|10|10|10|10|10|10|10|10|10| <class 'str'>\n",
      "10|10\n",
      "Новий результат після множення b на 2: 10|20\n"
     ]
    }
   ],
   "source": [
    "a = \"10|\"\n",
    "b = 10\n",
    "\n",
    "c = a * b\n",
    "print(c, type(c))  \n",
    "c = a + str(b)\n",
    "print(c)\n",
    "\n",
    "d = b * 2\n",
    "c = a + str(d)\n",
    "print(f\"Новий результат після множення b на 2: {c}\")\n"
   ]
  },
  {
   "cell_type": "markdown",
   "metadata": {},
   "source": [
    "### Чат зробив нам програму яка виводить ромб ###"
   ]
  },
  {
   "cell_type": "code",
   "execution_count": 6,
   "metadata": {},
   "outputs": [
    {
     "name": "stdout",
     "output_type": "stream",
     "text": [
      "    #_\n",
      "   #_#_\n",
      "  #_#_#_\n",
      " #_#_#_#_\n",
      "#_#_#_#_#_\n",
      " #_#_#_#_\n",
      "  #_#_#_\n",
      "   #_#_\n",
      "    #_\n"
     ]
    }
   ],
   "source": [
    "def print_rhombus(height):\n",
    "    for i in range(height):\n",
    "        print(' ' * (height - i - 1) + '#_' * (i + 1))\n",
    "    for i in range(height - 2, -1, -1):\n",
    "        print(' ' * (height - i - 1) + '#_' * (i + 1))\n",
    "\n",
    "rhombus_height = 5\n",
    "print_rhombus(rhombus_height)"
   ]
  },
  {
   "cell_type": "markdown",
   "metadata": {},
   "source": [
    "### Колекції - комплексні типи даних ###"
   ]
  },
  {
   "cell_type": "code",
   "execution_count": 7,
   "metadata": {},
   "outputs": [
    {
     "name": "stdout",
     "output_type": "stream",
     "text": [
      "Початковий список: [1, '1', [1, 3], '2', 2]\n",
      "Елемент з індексом 1: 1 (Тип: <class 'str'>)\n",
      "Елемент з індексом 0: 1\n",
      "Останній елемент (-1 індекс): 2 (Тип: <class 'int'>)\n",
      "\n",
      "Після додавання 5: [1, '1', [1, 3], '2', 2, 5]\n",
      "Після видалення '2': [1, '1', [1, 3], 2, 5]\n",
      "Видалено елемент за індексом 1: 1\n",
      "Список після видалення: [1, [1, 3], 2, 5]\n"
     ]
    }
   ],
   "source": [
    "\n",
    "l = [1, \"1\", [1, 3], '2', 2]\n",
    "print(\"Початковий список:\", l)\n",
    "print(f\"Елемент з індексом 1: {l[1]} (Тип: {type(l[1])})\")\n",
    "print(f\"Елемент з індексом 0: {l[0]}\")\n",
    "print(f\"Останній елемент (-1 індекс): {l[-1]} (Тип: {type(l[-1])})\\n\")\n",
    "l.append(5)\n",
    "print(\"Після додавання 5:\", l)\n",
    "l.remove('2')\n",
    "print(\"Після видалення '2':\", l)\n",
    "removed_element = l.pop(1)\n",
    "print(f\"Видалено елемент за індексом 1: {removed_element}\")\n",
    "print(\"Список після видалення:\", l)\n"
   ]
  },
  {
   "cell_type": "code",
   "execution_count": null,
   "metadata": {},
   "outputs": [],
   "source": []
  }
 ],
 "metadata": {
  "kernelspec": {
   "display_name": "Python 3",
   "language": "python",
   "name": "python3"
  },
  "language_info": {
   "codemirror_mode": {
    "name": "ipython",
    "version": 3
   },
   "file_extension": ".py",
   "mimetype": "text/x-python",
   "name": "python",
   "nbconvert_exporter": "python",
   "pygments_lexer": "ipython3",
   "version": "3.12.5"
  }
 },
 "nbformat": 4,
 "nbformat_minor": 2
}
