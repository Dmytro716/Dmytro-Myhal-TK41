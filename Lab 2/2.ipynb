{
 "cells": [
  {
   "cell_type": "markdown",
   "metadata": {},
   "source": [
    "### Типи змінних ###\n",
    "\n",
    "#### Стрічкові змінні ####"
   ]
  },
  {
   "cell_type": "code",
   "execution_count": 1,
   "metadata": {},
   "outputs": [
    {
     "name": "stdout",
     "output_type": "stream",
     "text": [
      "Це новий рядок Перевизначено остаточно \n",
      "Це \n",
      "інший багаторядковий текст\n",
      " Додали нову змінну\n"
     ]
    }
   ],
   "source": [
    "a = 'Це новий рядок'  # Змінив текст на \"рядок\"\n",
    "a1 = \"Це\"\n",
    "a_1 = \"рядок\"\n",
    "a_ = '''\n",
    "Це \n",
    "інший багаторядковий текст\n",
    "'''  # Мультистрічка тепер називається \"багаторядковий текст\"\n",
    "\n",
    "# Додаємо нову змінну\n",
    "c = 'Додали нову змінну'  # Новий рядок тексту\n",
    "\n",
    "# Виведемо значення з новою змінною\n",
    "b = 'Перевизначено остаточно'  # Ще раз змінив текст змінної b\n",
    "print(a, b, a_, c)  # Виводимо також нову змінну"
   ]
  },
  {
   "cell_type": "code",
   "execution_count": 3,
   "metadata": {},
   "outputs": [
    {
     "name": "stdout",
     "output_type": "stream",
     "text": [
      "з'їли піцу\n",
      "шоколадний торт\n",
      "Тип змінної 'страва': <class 'str'>\n",
      "Тип змінної 'десерт': <class 'str'>\n",
      "З'їли піцу\n",
      "Шоколадний торт\n",
      "з'їли суші\n",
      "Довжина змінної 'страва': 10\n",
      "Довжина змінної 'десерт': 15\n"
     ]
    }
   ],
   "source": [
    "страва = \"з'їли піцу\"\n",
    "десерт = \"шоколадний торт\"  \n",
    "\n",
    "print(страва)\n",
    "print(десерт)\n",
    "\n",
    "print(f\"Тип змінної 'страва': {type(страва)}\")\n",
    "print(f\"Тип змінної 'десерт': {type(десерт)}\")\n",
    "\n",
    "print(страва.capitalize())  \n",
    "print(десерт.capitalize())  \n",
    "\n",
    "страва_оновлена = страва.replace(\"піцу\", \"суші\")  \n",
    "print(страва_оновлена)  \n",
    "\n",
    "print(f\"Довжина змінної 'страва': {len(страва)}\")\n",
    "print(f\"Довжина змінної 'десерт': {len(десерт)}\")\n"
   ]
  },
  {
   "cell_type": "code",
   "execution_count": 4,
   "metadata": {},
   "outputs": [
    {
     "name": "stdout",
     "output_type": "stream",
     "text": [
      "Це новий рядокПеревизначено остаточноДодали нову змінну Це новий рядокПеревизначено остаточноДодали нову змінну\n"
     ]
    }
   ],
   "source": [
    "print(a + b + c, a.__add__(b).__add__(c))"
   ]
  },
  {
   "cell_type": "code",
   "execution_count": 6,
   "metadata": {},
   "outputs": [
    {
     "name": "stdout",
     "output_type": "stream",
     "text": [
      "Почнемо з великої букви. І продовжимо з новим реченням ось і закінчимо на цьому.\n"
     ]
    }
   ],
   "source": [
    "t = \"почнемо з великої букви. і продовжимо з новим реченням\"\n",
    "t1, t2 = t.split('. ')\n",
    "new_sentence = \"ось і закінчимо на цьому.\"\n",
    "\n",
    "print(t1.capitalize() + \".\", t2.capitalize(), new_sentence)\n"
   ]
  },
  {
   "cell_type": "markdown",
   "metadata": {},
   "source": [
    "### Чисельні типи даних ###"
   ]
  },
  {
   "cell_type": "code",
   "execution_count": 7,
   "metadata": {},
   "outputs": [
    {
     "name": "stdout",
     "output_type": "stream",
     "text": [
      "20\n",
      "<class 'int'>\n",
      "116\n",
      "<class 'str'>\n"
     ]
    }
   ],
   "source": [
    "import sys\n",
    "\n",
    "d = 10000000000\n",
    "size_of_d = sys.getsizeof(d)\n",
    "\n",
    "print(sys.getsizeof(d))\n",
    "print(type(d))\n",
    "\n",
    "text = \"Це велике число, яке перевіряємо на розмір.\"\n",
    "\n",
    "print(sys.getsizeof(text))\n",
    "print(type(text))\n"
   ]
  }
 ],
 "metadata": {
  "kernelspec": {
   "display_name": "Python 3",
   "language": "python",
   "name": "python3"
  },
  "language_info": {
   "codemirror_mode": {
    "name": "ipython",
    "version": 3
   },
   "file_extension": ".py",
   "mimetype": "text/x-python",
   "name": "python",
   "nbconvert_exporter": "python",
   "pygments_lexer": "ipython3",
   "version": "3.12.5"
  }
 },
 "nbformat": 4,
 "nbformat_minor": 2
}
