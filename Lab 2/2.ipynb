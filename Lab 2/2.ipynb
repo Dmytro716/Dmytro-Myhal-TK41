{
 "cells": [
  {
   "cell_type": "markdown",
   "metadata": {},
   "source": [
    "### Типи змінних ###\n",
    "\n",
    "#### Стрічкові змінні ####"
   ]
  },
  {
   "cell_type": "code",
   "execution_count": 1,
   "metadata": {},
   "outputs": [
    {
     "name": "stdout",
     "output_type": "stream",
     "text": [
      "Це новий рядок Перевизначено остаточно \n",
      "Це \n",
      "інший багаторядковий текст\n",
      " Додали нову змінну\n"
     ]
    }
   ],
   "source": [
    "a = 'Це новий рядок'  \n",
    "a1 = \"Це\"\n",
    "a_1 = \"рядок\"\n",
    "a_ = '''\n",
    "Це \n",
    "інший багаторядковий текст\n",
    "'''  \n",
    "c = 'Додали нову змінну'  \n",
    "b = 'Перевизначено остаточно'  \n",
    "print(a, b, a_, c)  "
   ]
  },
  {
   "cell_type": "code",
   "execution_count": 3,
   "metadata": {},
   "outputs": [
    {
     "name": "stdout",
     "output_type": "stream",
     "text": [
      "з'їли піцу\n",
      "шоколадний торт\n",
      "Тип змінної 'страва': <class 'str'>\n",
      "Тип змінної 'десерт': <class 'str'>\n",
      "З'їли піцу\n",
      "Шоколадний торт\n",
      "з'їли суші\n",
      "Довжина змінної 'страва': 10\n",
      "Довжина змінної 'десерт': 15\n"
     ]
    }
   ],
   "source": [
    "страва = \"з'їли піцу\"\n",
    "десерт = \"шоколадний торт\"  \n",
    "\n",
    "print(страва)\n",
    "print(десерт)\n",
    "\n",
    "print(f\"Тип змінної 'страва': {type(страва)}\")\n",
    "print(f\"Тип змінної 'десерт': {type(десерт)}\")\n",
    "\n",
    "print(страва.capitalize())  \n",
    "print(десерт.capitalize())  \n",
    "\n",
    "страва_оновлена = страва.replace(\"піцу\", \"суші\")  \n",
    "print(страва_оновлена)  \n",
    "\n",
    "print(f\"Довжина змінної 'страва': {len(страва)}\")\n",
    "print(f\"Довжина змінної 'десерт': {len(десерт)}\")\n"
   ]
  },
  {
   "cell_type": "code",
   "execution_count": 4,
   "metadata": {},
   "outputs": [
    {
     "name": "stdout",
     "output_type": "stream",
     "text": [
      "Це новий рядокПеревизначено остаточноДодали нову змінну Це новий рядокПеревизначено остаточноДодали нову змінну\n"
     ]
    }
   ],
   "source": [
    "print(a + b + c, a.__add__(b).__add__(c))"
   ]
  },
  {
   "cell_type": "code",
   "execution_count": 6,
   "metadata": {},
   "outputs": [
    {
     "name": "stdout",
     "output_type": "stream",
     "text": [
      "Почнемо з великої букви. І продовжимо з новим реченням ось і закінчимо на цьому.\n"
     ]
    }
   ],
   "source": [
    "t = \"почнемо з великої букви. і продовжимо з новим реченням\"\n",
    "t1, t2 = t.split('. ')\n",
    "new_sentence = \"ось і закінчимо на цьому.\"\n",
    "\n",
    "print(t1.capitalize() + \".\", t2.capitalize(), new_sentence)\n"
   ]
  },
  {
   "cell_type": "markdown",
   "metadata": {},
   "source": [
    "### Чисельні типи даних ###"
   ]
  },
  {
   "cell_type": "code",
   "execution_count": 3,
   "metadata": {},
   "outputs": [
    {
     "name": "stdout",
     "output_type": "stream",
     "text": [
      "32\n",
      "<class 'int'>\n",
      "160\n",
      "<class 'str'>\n"
     ]
    }
   ],
   "source": [
    "import sys\n",
    "\n",
    "d = 10000000000\n",
    "size_of_d = sys.getsizeof(d)\n",
    "\n",
    "print(sys.getsizeof(d))\n",
    "print(type(d))\n",
    "\n",
    "text = \"Це велике число, яке перевіряємо на розмір.\"\n",
    "\n",
    "print(sys.getsizeof(text))\n",
    "print(type(text))\n"
   ]
  },
  {
   "cell_type": "code",
   "execution_count": null,
   "metadata": {},
   "outputs": [
    {
     "name": "stdout",
     "output_type": "stream",
     "text": [
      "<class 'float'>\n"
     ]
    }
   ],
   "source": [
    "dd = 1.1\n",
    "print(type(dd))"
   ]
  },
  {
   "cell_type": "code",
   "execution_count": null,
   "metadata": {},
   "outputs": [
    {
     "name": "stdout",
     "output_type": "stream",
     "text": [
      "Тип змінної c: <class 'float'>\n",
      "Значення змінної c: 11000000000.0\n",
      "dd піднесена до квадрату: 1.2100000000000002\n",
      "dd піднесена до кубу: 1.3310000000000004\n",
      "Квадратний корінь з dd: 1.0488088481701516\n",
      "Натуральний логарифм від dd: 0.09531017980432493\n"
     ]
    }
   ],
   "source": [
    "\n",
    "c = d * dd\n",
    "print(\"dd піднесена до квадрату:\", dd ** 2)\n",
    "print(\"dd піднесена до кубу:\", dd ** 3)\n",
    "import math\n",
    "print(\"Квадратний корінь з dd:\", math.sqrt(dd))\n",
    "print(\"Натуральний логарифм від dd:\", math.log(dd))\n"
   ]
  },
  {
   "cell_type": "code",
   "execution_count": null,
   "metadata": {},
   "outputs": [
    {
     "name": "stdout",
     "output_type": "stream",
     "text": [
      "10|10|10|10|10|10|10|10|10|10| <class 'str'>\n",
      "10|10\n",
      "Новий результат після множення b на 2: 10|20\n"
     ]
    }
   ],
   "source": [
    "a = \"10|\"\n",
    "b = 10\n",
    "\n",
    "c = a * b\n",
    "print(c, type(c))  \n",
    "c = a + str(b)\n",
    "print(c)\n",
    "d = b * 2\n",
    "c = a + str(d)\n",
    "print(f\"Новий результат після множення b на 2: {c}\")\n"
   ]
  },
  {
   "cell_type": "markdown",
   "metadata": {},
   "source": [
    "### Чат зробив нам програму яка виводить ромб ###"
   ]
  },
  {
   "cell_type": "code",
   "execution_count": 7,
   "metadata": {},
   "outputs": [
    {
     "name": "stdout",
     "output_type": "stream",
     "text": [
      "    #_\n",
      "   #_#_\n",
      "  #_#_#_\n",
      " #_#_#_#_\n",
      "#_#_#_#_#_\n",
      " #_#_#_#_\n",
      "  #_#_#_\n",
      "   #_#_\n",
      "    #_\n"
     ]
    }
   ],
   "source": [
    "def print_rhombus(height):\n",
    "    for i in range(height):\n",
    "        print(' ' * (height - i - 1) + '#_' * (i + 1))\n",
    "    for i in range(height - 2, -1, -1):\n",
    "        print(' ' * (height - i - 1) + '#_' * (i + 1))\n",
    "\n",
    "rhombus_height = 5\n",
    "print_rhombus(rhombus_height)\n",
    "\n"
   ]
  },
  {
   "cell_type": "markdown",
   "metadata": {},
   "source": [
    "### Колекції - комплексні типи даних ###"
   ]
  },
  {
   "cell_type": "code",
   "execution_count": 8,
   "metadata": {},
   "outputs": [
    {
     "name": "stdout",
     "output_type": "stream",
     "text": [
      "Початковий список: [1, '1', [1, 3], '2', 2]\n",
      "Елемент з індексом 1: 1 (Тип: <class 'str'>)\n",
      "Елемент з індексом 0: 1\n",
      "Останній елемент (-1 індекс): 2 (Тип: <class 'int'>)\n",
      "\n",
      "Після додавання 5: [1, '1', [1, 3], '2', 2, 5]\n",
      "Після видалення '2': [1, '1', [1, 3], 2, 5]\n",
      "Видалено елемент за індексом 1: 1\n",
      "Список після видалення: [1, [1, 3], 2, 5]\n"
     ]
    }
   ],
   "source": [
    "\n",
    "l = [1, \"1\", [1, 3], '2', 2]\n",
    "print(\"Початковий список:\", l)\n",
    "print(f\"Елемент з індексом 1: {l[1]} (Тип: {type(l[1])})\")\n",
    "print(f\"Елемент з індексом 0: {l[0]}\")\n",
    "print(f\"Останній елемент (-1 індекс): {l[-1]} (Тип: {type(l[-1])})\\n\")\n",
    "l.append(5)\n",
    "print(\"Після додавання 5:\", l)\n",
    "l.remove('2')\n",
    "print(\"Після видалення '2':\", l)\n",
    "removed_element = l.pop(1)\n",
    "print(f\"Видалено елемент за індексом 1: {removed_element}\")\n",
    "print(\"Список після видалення:\", l)\n"
   ]
  },
  {
   "cell_type": "code",
   "execution_count": 12,
   "metadata": {},
   "outputs": [
    {
     "name": "stdout",
     "output_type": "stream",
     "text": [
      "{'name': 1, 0: 'Перевизначив', 1: 1, 'Один': 1}\n",
      "{'name': 1, 0: 'Перевизначив', 1: 1, 'Один': 1, 'Нуль': 0, 'НовийКлюч': 'НовийЗначення'}\n",
      "Перевизначив 0\n",
      "Б Богдан\n",
      "{'name': 1, 1: 1, 'Один': 1, 'Нуль': 0, 'НовийКлюч': 'НовийЗначення'}\n",
      "{'Курс': ['1', '2', '3'], 'Спеціальність': ['ІТ', 'Математика', 'Фізика']}\n"
     ]
    }
   ],
   "source": [
    "\n",
    "d = {\"name\": 1, 0: \"Нуль\", 1: 1, \"Один\": 1, 0: \"Перевизначив\"}\n",
    "print(d)\n",
    "\n",
    "d[\"Нуль\"] = 0\n",
    "d[\"НовийКлюч\"] = \"НовийЗначення\"\n",
    "print(d)\n",
    "\n",
    "print(d[0], d[\"Нуль\"])\n",
    "\n",
    "Student = {\"Прізвище\": [\"Б\", \"А\"], \"Імя\": [\"Богдан\", \"Василь\"], \"Вік\": [21, 22]}\n",
    "print(Student[\"Прізвище\"][0], Student[\"Імя\"][0])\n",
    "d.pop(0)\n",
    "print(d)\n",
    "\n",
    "Group = {\n",
    "    \"Курс\": [\"1\", \"2\", \"3\"],\n",
    "    \"Спеціальність\": [\"ІТ\", \"Математика\", \"Фізика\"]\n",
    "}\n",
    "print(Group)\n"
   ]
  },
  {
   "cell_type": "code",
   "execution_count": 13,
   "metadata": {},
   "outputs": [
    {
     "name": "stdout",
     "output_type": "stream",
     "text": [
      "Рахуємо кількість чисел 1: 1\n",
      "Довжина кортежу: 6\n",
      "Перший елемент: 1\n",
      "Індекс елемента '1': 1\n",
      "Індекс нового елемента 'NewElement': 5\n"
     ]
    }
   ],
   "source": [
    "\n",
    "t = (1, \"1\", \"Один\", \"1\", 2)\n",
    "\n",
    "t_list = list(t)\n",
    "t_list.append(\"NewElement\")\n",
    "t = tuple(t_list)\n",
    "\n",
    "print(\"Рахуємо кількість чисел 1:\", t.count(1))\n",
    "print(\"Довжина кортежу:\", len(t))\n",
    "print(\"Перший елемент:\", t[0])\n",
    "\n",
    "print(\"Індекс елемента '1':\", t.index(\"1\"))\n",
    "\n",
    "print(\"Індекс нового елемента 'NewElement':\", t.index(\"NewElement\"))\n"
   ]
  },
  {
   "cell_type": "code",
   "execution_count": 14,
   "metadata": {},
   "outputs": [
    {
     "name": "stdout",
     "output_type": "stream",
     "text": [
      "Множина s: {1, 2, 'Один', '1', 'NewElement'}\n",
      "Після додавання елементів: {1, 2, 5, 'Один', 10, '1', 'NewElement'}\n",
      "Елемент 'Один' є у множині.\n",
      "Після видалення елемента 'Один': {1, 2, 5, 10, '1', 'NewElement'}\n",
      "Видаляємо випадковий елемент: 1\n"
     ]
    }
   ],
   "source": [
    "\n",
    "s = set(t)\n",
    "print(\"Множина s:\", s)\n",
    "\n",
    "s.add(5)\n",
    "s.add('Один')\n",
    "s.add(10) \n",
    "print(\"Після додавання елементів:\", s)\n",
    "\n",
    "if 'Один' in s:\n",
    "    print(\"Елемент 'Один' є у множині.\")\n",
    "\n",
    "s.discard('Один') \n",
    "print(\"Після видалення елемента 'Один':\", s)\n",
    "\n",
    "print(\"Видаляємо випадковий елемент:\", s.pop())\n"
   ]
  },
  {
   "cell_type": "code",
   "execution_count": 15,
   "metadata": {},
   "outputs": [
    {
     "name": "stdout",
     "output_type": "stream",
     "text": [
      "Хеш a: 109550214114969276\n",
      "Хеш b: 109550214114969276\n",
      "Хеші рівні? True\n",
      "a та b - це той самий об'єкт? True\n"
     ]
    }
   ],
   "source": [
    "\n",
    "a = \"A\"\n",
    "b = \"A\"\n",
    "\n",
    "hash_equal = a.__hash__() == b.__hash__()\n",
    "\n",
    "print(\"Хеш a:\", a.__hash__())\n",
    "print(\"Хеш b:\", b.__hash__())\n",
    "print(\"Хеші рівні?\", hash_equal)\n",
    "\n",
    "print(\"a та b - це той самий об'єкт?\", a is b)\n"
   ]
  },
  {
   "cell_type": "markdown",
   "metadata": {},
   "source": [
    "### Способи виводу інформації/даних ###"
   ]
  },
  {
   "cell_type": "code",
   "execution_count": 16,
   "metadata": {},
   "outputs": [
    {
     "data": {
      "text/plain": [
       "'Це ми можеш вивести'"
      ]
     },
     "execution_count": 16,
     "metadata": {},
     "output_type": "execute_result"
    }
   ],
   "source": [
    "p = \"Це ми можеш вивести\"\n",
    "p #це буде виведено але через особливості роботи комірок"
   ]
  },
  {
   "cell_type": "code",
   "execution_count": 17,
   "metadata": {},
   "outputs": [
    {
     "name": "stdout",
     "output_type": "stream",
     "text": [
      "Починаємо стрічку\n",
      "Тут буде ВСТАВКА та ще додамо цифру 5\n",
      "5 рівне 5 та не рівне 6\n",
      "Це буде форматована Вставка з числом 2.12\n",
      "Сума 2 і 3 дорівнює 5, а довжина слова 'стрічка' дорівнює 7\n",
      "ЦЕ ПРИКЛАД РЯДКА\n",
      "це приклад рядка\n",
      "Це оновлений приклад із заміною слова\n"
     ]
    }
   ],
   "source": [
    "\n",
    "fs = \"Починаємо\" + \" \" + \"стрічку\"\n",
    "print(fs)\n",
    "\n",
    "fs = \"Тут буде {} та ще додамо цифру {}\".format(\"ВСТАВКА\", 5) \n",
    "print(fs)\n",
    "\n",
    "fs = \"{0} рівне {0} та не рівне {1}\".format(5, 6) \n",
    "print(fs)\n",
    "\n",
    "fs = \"Це буде форматована %s з числом %.2f\" % (\"Вставка\", 2.12345)\n",
    "print(fs)\n",
    "\n",
    "print(f\"Сума 2 і 3 дорівнює {2 + 3}, а довжина слова 'стрічка' дорівнює {len('стрічка')}\")\n",
    "\n",
    "print(\"Це приклад рядка\".upper())  \n",
    "print(\"ЦЕ ПРИКЛАД РЯДКА\".lower())  \n",
    "\n",
    "fs = \"Це новий приклад із заміною слова\".replace(\"новий\", \"оновлений\")\n",
    "print(fs)\n"
   ]
  },
  {
   "cell_type": "code",
   "execution_count": 20,
   "metadata": {},
   "outputs": [
    {
     "name": "stdout",
     "output_type": "stream",
     "text": [
      "Введено з клавіатури: яблоко, довжина рядка 6, вставлене число 1, а число +10: 11\n",
      "Рядок 'Яблоко' має 6 символів, а перша літера: 'Я'\n"
     ]
    }
   ],
   "source": [
    "\n",
    "s = \"Яблоко\"\n",
    "s1 = 1\n",
    "\n",
    "ff = f\"Введено з клавіатури: {s.lower()}, довжина рядка {len(s)}, вставлене число {s1}, а число +10: {s1 + 10}\"\n",
    "print(ff)\n",
    "\n",
    "ff = f\"Рядок '{s}' має {len(s)} символів, а перша літера: '{s[0]}'\"\n",
    "print(ff)\n"
   ]
  },
  {
   "cell_type": "markdown",
   "metadata": {},
   "source": [
    "### Константи та вбудовані функції ###"
   ]
  },
  {
   "cell_type": "code",
   "execution_count": 22,
   "metadata": {},
   "outputs": [
    {
     "name": "stdout",
     "output_type": "stream",
     "text": [
      "Вивід\n",
      "Вивід\n",
      "Вивід\n",
      "None\n",
      "None\n"
     ]
    }
   ],
   "source": [
    "\n",
    "def display_message():\n",
    "    message = \"Вивід\"  \n",
    "    print(message)\n",
    "\n",
    "for _ in range(3):\n",
    "    display_message()\n",
    "\n",
    "def my_fun():\n",
    "    return None \n",
    "\n",
    "result1 = my_fun()\n",
    "result2 = my_fun()\n",
    "print(result1)  \n",
    "print(result2)  \n"
   ]
  },
  {
   "cell_type": "code",
   "execution_count": 23,
   "metadata": {},
   "outputs": [
    {
     "name": "stdout",
     "output_type": "stream",
     "text": [
      ",\n",
      "44\n",
      "b\n",
      "1.13 6.12545\n",
      "False\n",
      "False\n",
      "True\n"
     ]
    }
   ],
   "source": [
    "\n",
    "print(chr(44)) \n",
    "print(ord(\",\"))  \n",
    "\n",
    "s = \"abcd\"\n",
    "print(s[1]) \n",
    "\n",
    "a = 1.12545\n",
    "print(round(a, 2), sum([a, round(a), len(s)]))  \n",
    "\n",
    "a = [1, 4, 5, None]\n",
    "print(all(a))  \n",
    "\n",
    "b = [True, False, 1, 0]\n",
    "print(all(b))  \n",
    "\n",
    "\n",
    "c = [1, 2, 3, 4]\n",
    "print(all(c))  k\n"
   ]
  }
 ],
 "metadata": {
  "kernelspec": {
   "display_name": "Python 3",
   "language": "python",
   "name": "python3"
  },
  "language_info": {
   "codemirror_mode": {
    "name": "ipython",
    "version": 3
   },
   "file_extension": ".py",
   "mimetype": "text/x-python",
   "name": "python",
   "nbconvert_exporter": "python",
   "pygments_lexer": "ipython3",
   "version": "3.10.11"
  }
 },
 "nbformat": 4,
 "nbformat_minor": 2
}
